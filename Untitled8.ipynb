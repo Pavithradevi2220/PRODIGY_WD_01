{
  "nbformat": 4,
  "nbformat_minor": 0,
  "metadata": {
    "colab": {
      "provenance": [],
      "authorship_tag": "ABX9TyNu3u2lx1LFVzeu/PwBruSU",
      "include_colab_link": true
    },
    "kernelspec": {
      "name": "python3",
      "display_name": "Python 3"
    },
    "language_info": {
      "name": "python"
    }
  },
  "cells": [
    {
      "cell_type": "markdown",
      "metadata": {
        "id": "view-in-github",
        "colab_type": "text"
      },
      "source": [
        "<a href=\"https://colab.research.google.com/github/Pavithradevi2220/PRODIGY_WD_01/blob/main/Untitled8.ipynb\" target=\"_parent\"><img src=\"https://colab.research.google.com/assets/colab-badge.svg\" alt=\"Open In Colab\"/></a>"
      ]
    },
    {
      "cell_type": "code",
      "execution_count": null,
      "metadata": {
        "id": "sYD350wAdyhA"
      },
      "outputs": [],
      "source": [
        "<!DOCTYPE html>\n",
        "<html lang=\"en\">\n",
        "<head>\n",
        "  <meta charset=\"UTF-8\">\n",
        "  <meta name=\"viewport\" content=\"width=device-width, initial-scale=1.0\">\n",
        "  <title>Interactive Navigation Menu</title>\n",
        "  <link rel=\"stylesheet\" href=\"styles.css\">\n",
        "</head>\n",
        "<body>\n",
        "  <nav id=\"navbar\">\n",
        "    <ul>\n",
        "      <li><a href=\"#\" class=\"nav-link\">Blue Gradient Square</a></li>\n",
        "      <li><a href=\"#\" class=\"nav-link\">Circle with gradient</a></li>\n",
        "      <li><a href=\"#\" class=\"nav-link\">Blue Gradient Square</a></li>\n",
        "      <li><a href=\"#\" class=\"nav-link\">Circle with gradient</a></li>\n",
        "      <li><a href=\"#\" class=\"nav-link\">Blue Gradient Square</a></li>\n",
        "    </ul>\n",
        "  </nav>\n",
        "\n",
        "  <div class=\"content\">\n",
        "    <!-- Your page content goes here -->\n",
        "  </div>\n",
        "\n",
        "  <script src=\"script.js\"></script>\n",
        "</body>\n",
        "</html>"
      ]
    }
  ]
}