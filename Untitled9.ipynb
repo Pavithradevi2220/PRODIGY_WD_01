{
  "nbformat": 4,
  "nbformat_minor": 0,
  "metadata": {
    "colab": {
      "provenance": [],
      "authorship_tag": "ABX9TyNDgaMCBReaQM80VX5dj3zY",
      "include_colab_link": true
    },
    "kernelspec": {
      "name": "python3",
      "display_name": "Python 3"
    },
    "language_info": {
      "name": "python"
    }
  },
  "cells": [
    {
      "cell_type": "markdown",
      "metadata": {
        "id": "view-in-github",
        "colab_type": "text"
      },
      "source": [
        "<a href=\"https://colab.research.google.com/github/Pavithradevi2220/PRODIGY_WD_01/blob/main/Untitled9.ipynb\" target=\"_parent\"><img src=\"https://colab.research.google.com/assets/colab-badge.svg\" alt=\"Open In Colab\"/></a>"
      ]
    },
    {
      "cell_type": "code",
      "execution_count": null,
      "metadata": {
        "id": "tDvRe09ofjko"
      },
      "outputs": [],
      "source": [
        "body {\n",
        "  margin: 0;\n",
        "  font-family: Arial, sans-serif;\n",
        "}\n",
        "\n",
        "nav {\n",
        "  position: fixed;\n",
        "  top: 0;\n",
        "  left: 0;\n",
        "  width: 100%;\n",
        "  background-color: transparent;\n",
        "  transition: background-color 0.3s ease;\n",
        "}\n",
        "\n",
        "nav ul {\n",
        "  margin: 0;\n",
        "  padding: 0;\n",
        "  list-style: none;\n",
        "  display: flex;\n",
        "}\n",
        "\n",
        "nav li {\n",
        "  margin: 0 20px;\n",
        "}\n",
        "\n",
        ".nav-link {\n",
        "  text-decoration: none;\n",
        "  color: #333;\n",
        "  transition: color 0.3s ease;\n",
        "}\n",
        "\n",
        ".nav-link:hover {\n",
        "  color: #007bff;\n",
        "}"
      ]
    }
  ]
}